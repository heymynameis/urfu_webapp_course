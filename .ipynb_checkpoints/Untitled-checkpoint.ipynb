{
 "cells": [
  {
   "cell_type": "code",
   "execution_count": 17,
   "id": "8271a29c-09ef-424e-aa57-d597acfa439b",
   "metadata": {},
   "outputs": [
    {
     "name": "stderr",
     "output_type": "stream",
     "text": [
      "Some layers from the model checkpoint at AndrewChar/model-QA-5-epoch-RU were not used when initializing TFDistilBertForQuestionAnswering: ['dropout_19']\n",
      "- This IS expected if you are initializing TFDistilBertForQuestionAnswering from the checkpoint of a model trained on another task or with another architecture (e.g. initializing a BertForSequenceClassification model from a BertForPreTraining model).\n",
      "- This IS NOT expected if you are initializing TFDistilBertForQuestionAnswering from the checkpoint of a model that you expect to be exactly identical (initializing a BertForSequenceClassification model from a BertForSequenceClassification model).\n",
      "Some layers of TFDistilBertForQuestionAnswering were not initialized from the model checkpoint at AndrewChar/model-QA-5-epoch-RU and are newly initialized: ['dropout_39']\n",
      "You should probably TRAIN this model on a down-stream task to be able to use it for predictions and inference.\n"
     ]
    }
   ],
   "source": [
    "from transformers import pipeline\n",
    "from thefuzz import fuzz\n",
    "pipe = pipeline(\"question-answering\", model=\"AndrewChar/model-QA-5-epoch-RU\")"
   ]
  },
  {
   "cell_type": "code",
   "execution_count": 20,
   "id": "2c2eea6d-5712-4c55-94d8-5eb8550aeb42",
   "metadata": {},
   "outputs": [
    {
     "ename": "SyntaxError",
     "evalue": "expected ':' (2440316721.py, line 4)",
     "output_type": "error",
     "traceback": [
      "\u001b[1;36m  Cell \u001b[1;32mIn[20], line 4\u001b[1;36m\u001b[0m\n\u001b[1;33m    def compare_methods(q, ta, a)\u001b[0m\n\u001b[1;37m                                 ^\u001b[0m\n\u001b[1;31mSyntaxError\u001b[0m\u001b[1;31m:\u001b[0m expected ':'\n"
     ]
    }
   ],
   "source": [
    "q = \"Для чего используют мостовую схему?\"\n",
    "ta = \"для повышения чувствительности\"\n",
    "a = \"Такую схему применяют для повышения чувствительности\"\n",
    "def compare_methods(q, ta, a):\n",
    "    extr_answ = pipe(q,a)['answer']\n",
    "    print(\"Решение с МО:\", fuzz.ratio(extr_answ, ta), \"; только НЛ:\", fuzz.ratio(a, ta))"
   ]
  },
  {
   "cell_type": "code",
   "execution_count": 14,
   "id": "75d617ab-54ba-481b-a1bf-f3a7951426de",
   "metadata": {},
   "outputs": [
    {
     "name": "stdout",
     "output_type": "stream",
     "text": [
      "Для повышения чувствительности\n"
     ]
    }
   ],
   "source": [
    "a = \"Для повышения чувствительности\"\n",
    "extr_answ = pipe(q,a)['answer']\n",
    "print(extr_answ)"
   ]
  },
  {
   "cell_type": "code",
   "execution_count": 15,
   "id": "79ead450-ffd5-4895-9548-7cd8d2e16900",
   "metadata": {},
   "outputs": [
    {
     "name": "stdout",
     "output_type": "stream",
     "text": [
      "для повышения чувствительности\n"
     ]
    }
   ],
   "source": [
    "a = \"Ее задействуют для повышения чувствительности\"\n",
    "extr_answ = pipe(q,a)['answer']\n",
    "print(extr_answ)"
   ]
  },
  {
   "cell_type": "code",
   "execution_count": 16,
   "id": "52a0bcb7-9d9f-486a-baee-2504b488bd33",
   "metadata": {},
   "outputs": [
    {
     "name": "stdout",
     "output_type": "stream",
     "text": [
      "С целью повышения чувствительности\n"
     ]
    }
   ],
   "source": [
    "a = \"С целью повышения чувствительности\"\n",
    "extr_answ = pipe(q,a)['answer']\n",
    "print(extr_answ)"
   ]
  },
  {
   "cell_type": "code",
   "execution_count": null,
   "id": "3c6add95-2c3e-4bbc-840d-3a1b6677e1b5",
   "metadata": {},
   "outputs": [],
   "source": []
  }
 ],
 "metadata": {
  "kernelspec": {
   "display_name": "Python 3 (ipykernel)",
   "language": "python",
   "name": "python3"
  },
  "language_info": {
   "codemirror_mode": {
    "name": "ipython",
    "version": 3
   },
   "file_extension": ".py",
   "mimetype": "text/x-python",
   "name": "python",
   "nbconvert_exporter": "python",
   "pygments_lexer": "ipython3",
   "version": "3.10.8"
  }
 },
 "nbformat": 4,
 "nbformat_minor": 5
}
